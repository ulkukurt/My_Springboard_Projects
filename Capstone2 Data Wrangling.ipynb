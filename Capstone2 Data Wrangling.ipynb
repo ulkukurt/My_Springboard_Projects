{
 "cells": [
  {
   "cell_type": "markdown",
   "metadata": {},
   "source": [
    "##### Data Wrangling"
   ]
  },
  {
   "cell_type": "code",
   "execution_count": null,
   "metadata": {},
   "outputs": [],
   "source": [
    "#Regression: Can you predict the rating of the drug based on the review?"
   ]
  },
  {
   "cell_type": "code",
   "execution_count": 2,
   "metadata": {},
   "outputs": [],
   "source": [
    "#Import the necessary libraries\n",
    "\n",
    "import numpy as np\n",
    "import pandas as pd\n",
    "import math\n",
    "import seaborn as sns\n",
    "import matplotlib.pyplot as plt\n",
    "import re\n",
    "from scipy.stats import randint\n",
    "\n",
    "import nltk\n",
    "import html\n",
    "from wordcloud import WordCloud, STOPWORDS\n",
    "from bs4 import BeautifulSoup\n",
    "from nltk.corpus import stopwords\n",
    "from nltk.stem.snowball import SnowballStemmer\n",
    "from nltk.sentiment.vader import SentimentIntensityAnalyzer\n",
    "\n",
    "from scipy.stats import spearmanr, pearsonr\n",
    "from sklearn.feature_extraction.text import TfidfVectorizer\n",
    "from sklearn.feature_extraction.text import TfidfTransformer\n",
    "from sklearn.feature_extraction.text import CountVectorizer\n",
    "import scipy.stats as stats\n",
    "from sklearn.metrics import f1_score\n",
    "\n",
    "from sklearn.model_selection import RandomizedSearchCV\n",
    "from sklearn.model_selection import GridSearchCV\n",
    "from sklearn.model_selection import train_test_split\n",
    "from sklearn import preprocessing\n",
    "from sklearn.linear_model import LogisticRegression\n",
    "from sklearn.ensemble import RandomForestClassifier\n",
    "import lightgbm as lgb\n",
    "from lightgbm import LGBMModel, LGBMClassifier, plot_importance\n",
    "from sklearn.metrics import confusion_matrix, accuracy_score, classification_report"
   ]
  },
  {
   "cell_type": "code",
   "execution_count": 3,
   "metadata": {},
   "outputs": [
    {
     "name": "stdout",
     "output_type": "stream",
     "text": [
      "   uniqueID                  drugName                     condition  \\\n",
      "0    206461                 Valsartan  Left Ventricular Dysfunction   \n",
      "1     95260                Guanfacine                          ADHD   \n",
      "2     92703                    Lybrel                 Birth Control   \n",
      "3    138000                Ortho Evra                 Birth Control   \n",
      "4     35696  Buprenorphine / naloxone             Opiate Dependence   \n",
      "\n",
      "                                              review  rating       date  \\\n",
      "0  \"It has no side effect, I take it in combinati...       9  20-May-12   \n",
      "1  \"My son is halfway through his fourth week of ...       8  27-Apr-10   \n",
      "2  \"I used to take another oral contraceptive, wh...       5  14-Dec-09   \n",
      "3  \"This is my first time using any form of birth...       8   3-Nov-15   \n",
      "4  \"Suboxone has completely turned my life around...       9  27-Nov-16   \n",
      "\n",
      "   usefulCount  \n",
      "0           27  \n",
      "1          192  \n",
      "2           17  \n",
      "3           10  \n",
      "4           37  \n"
     ]
    }
   ],
   "source": [
    "#Load the train and test datas\n",
    "\n",
    "path='C:\\\\Users\\\\kurt_\\\\Dropbox\\\\code\\\\ulku\\\\Capstone2\\\\'\n",
    "test=pd.read_csv(path+'data\\\\drugsComTest_raw.csv')\n",
    "train=pd.read_csv(path+'data\\\\drugsComTrain_raw.csv')\n",
    "print(train.head())"
   ]
  },
  {
   "cell_type": "code",
   "execution_count": 4,
   "metadata": {},
   "outputs": [
    {
     "name": "stdout",
     "output_type": "stream",
     "text": [
      "(53766, 7)\n",
      "(161297, 7)\n"
     ]
    }
   ],
   "source": [
    "print(test.shape)\n",
    "print(train.shape)"
   ]
  },
  {
   "cell_type": "code",
   "execution_count": 5,
   "metadata": {},
   "outputs": [
    {
     "name": "stdout",
     "output_type": "stream",
     "text": [
      "(215063, 7)\n"
     ]
    },
    {
     "data": {
      "text/html": [
       "<div>\n",
       "<style scoped>\n",
       "    .dataframe tbody tr th:only-of-type {\n",
       "        vertical-align: middle;\n",
       "    }\n",
       "\n",
       "    .dataframe tbody tr th {\n",
       "        vertical-align: top;\n",
       "    }\n",
       "\n",
       "    .dataframe thead th {\n",
       "        text-align: right;\n",
       "    }\n",
       "</style>\n",
       "<table border=\"1\" class=\"dataframe\">\n",
       "  <thead>\n",
       "    <tr style=\"text-align: right;\">\n",
       "      <th></th>\n",
       "      <th>uniqueID</th>\n",
       "      <th>drugName</th>\n",
       "      <th>condition</th>\n",
       "      <th>review</th>\n",
       "      <th>rating</th>\n",
       "      <th>date</th>\n",
       "      <th>usefulCount</th>\n",
       "    </tr>\n",
       "  </thead>\n",
       "  <tbody>\n",
       "    <tr>\n",
       "      <th>0</th>\n",
       "      <td>206461</td>\n",
       "      <td>Valsartan</td>\n",
       "      <td>Left Ventricular Dysfunction</td>\n",
       "      <td>\"It has no side effect, I take it in combinati...</td>\n",
       "      <td>9</td>\n",
       "      <td>20-May-12</td>\n",
       "      <td>27</td>\n",
       "    </tr>\n",
       "    <tr>\n",
       "      <th>1</th>\n",
       "      <td>95260</td>\n",
       "      <td>Guanfacine</td>\n",
       "      <td>ADHD</td>\n",
       "      <td>\"My son is halfway through his fourth week of ...</td>\n",
       "      <td>8</td>\n",
       "      <td>27-Apr-10</td>\n",
       "      <td>192</td>\n",
       "    </tr>\n",
       "    <tr>\n",
       "      <th>2</th>\n",
       "      <td>92703</td>\n",
       "      <td>Lybrel</td>\n",
       "      <td>Birth Control</td>\n",
       "      <td>\"I used to take another oral contraceptive, wh...</td>\n",
       "      <td>5</td>\n",
       "      <td>14-Dec-09</td>\n",
       "      <td>17</td>\n",
       "    </tr>\n",
       "    <tr>\n",
       "      <th>3</th>\n",
       "      <td>138000</td>\n",
       "      <td>Ortho Evra</td>\n",
       "      <td>Birth Control</td>\n",
       "      <td>\"This is my first time using any form of birth...</td>\n",
       "      <td>8</td>\n",
       "      <td>3-Nov-15</td>\n",
       "      <td>10</td>\n",
       "    </tr>\n",
       "    <tr>\n",
       "      <th>4</th>\n",
       "      <td>35696</td>\n",
       "      <td>Buprenorphine / naloxone</td>\n",
       "      <td>Opiate Dependence</td>\n",
       "      <td>\"Suboxone has completely turned my life around...</td>\n",
       "      <td>9</td>\n",
       "      <td>27-Nov-16</td>\n",
       "      <td>37</td>\n",
       "    </tr>\n",
       "  </tbody>\n",
       "</table>\n",
       "</div>"
      ],
      "text/plain": [
       "   uniqueID                  drugName                     condition  \\\n",
       "0    206461                 Valsartan  Left Ventricular Dysfunction   \n",
       "1     95260                Guanfacine                          ADHD   \n",
       "2     92703                    Lybrel                 Birth Control   \n",
       "3    138000                Ortho Evra                 Birth Control   \n",
       "4     35696  Buprenorphine / naloxone             Opiate Dependence   \n",
       "\n",
       "                                              review  rating       date  \\\n",
       "0  \"It has no side effect, I take it in combinati...       9  20-May-12   \n",
       "1  \"My son is halfway through his fourth week of ...       8  27-Apr-10   \n",
       "2  \"I used to take another oral contraceptive, wh...       5  14-Dec-09   \n",
       "3  \"This is my first time using any form of birth...       8   3-Nov-15   \n",
       "4  \"Suboxone has completely turned my life around...       9  27-Nov-16   \n",
       "\n",
       "   usefulCount  \n",
       "0           27  \n",
       "1          192  \n",
       "2           17  \n",
       "3           10  \n",
       "4           37  "
      ]
     },
     "execution_count": 5,
     "metadata": {},
     "output_type": "execute_result"
    }
   ],
   "source": [
    "#Merge the test and train data for the next steps\n",
    "\n",
    "merged = [train, test]\n",
    "df = pd.concat(merged)\n",
    "\n",
    "print (df.shape)\n",
    "df.head()"
   ]
  },
  {
   "cell_type": "code",
   "execution_count": 6,
   "metadata": {},
   "outputs": [
    {
     "name": "stdout",
     "output_type": "stream",
     "text": [
      "<class 'pandas.core.frame.DataFrame'>\n",
      "Int64Index: 215063 entries, 0 to 53765\n",
      "Data columns (total 7 columns):\n",
      " #   Column       Non-Null Count   Dtype \n",
      "---  ------       --------------   ----- \n",
      " 0   uniqueID     215063 non-null  int64 \n",
      " 1   drugName     215063 non-null  object\n",
      " 2   condition    213869 non-null  object\n",
      " 3   review       215063 non-null  object\n",
      " 4   rating       215063 non-null  int64 \n",
      " 5   date         215063 non-null  object\n",
      " 6   usefulCount  215063 non-null  int64 \n",
      "dtypes: int64(3), object(4)\n",
      "memory usage: 13.1+ MB\n"
     ]
    }
   ],
   "source": [
    "df.info()"
   ]
  },
  {
   "cell_type": "code",
   "execution_count": 7,
   "metadata": {},
   "outputs": [
    {
     "data": {
      "text/plain": [
       "Index(['uniqueID', 'drugName', 'condition', 'review', 'rating', 'date',\n",
       "       'usefulCount'],\n",
       "      dtype='object')"
      ]
     },
     "execution_count": 7,
     "metadata": {},
     "output_type": "execute_result"
    }
   ],
   "source": [
    "#Check for column names\n",
    "\n",
    "df.columns"
   ]
  },
  {
   "cell_type": "code",
   "execution_count": 8,
   "metadata": {},
   "outputs": [
    {
     "data": {
      "text/plain": [
       "uniqueID        int64\n",
       "drugName       object\n",
       "condition      object\n",
       "review         object\n",
       "rating          int64\n",
       "date           object\n",
       "usefulCount     int64\n",
       "dtype: object"
      ]
     },
     "execution_count": 8,
     "metadata": {},
     "output_type": "execute_result"
    }
   ],
   "source": [
    "#Check for data types of columns\n",
    "\n",
    "df.dtypes"
   ]
  },
  {
   "cell_type": "code",
   "execution_count": 10,
   "metadata": {},
   "outputs": [
    {
     "data": {
      "image/png": "[encoded data removed]",
      "text/plain": [
       "<Figure size 432x288 with 1 Axes>"
      ]
     },
     "metadata": {},
     "output_type": "display_data"
    }
   ],
   "source": [
    "df.nunique().plot(kind='bar')\n",
    "plt.xlabel('Features')\n",
    "plt.ylabel('Count')\n",
    "plt.title('Count of each features')\n",
    "plt.style.use('ggplot')\n",
    "plt.show()"
   ]
  },
  {
   "cell_type": "code",
   "execution_count": 11,
   "metadata": {},
   "outputs": [
    {
     "name": "stdout",
     "output_type": "stream",
     "text": [
      "             NULL values\n",
      "condition           1194\n",
      "usefulCount            0\n",
      "date                   0\n",
      "rating                 0\n",
      "review                 0\n",
      "drugName               0\n",
      "uniqueID               0\n",
      "             NULL values\n",
      "condition       0.555186\n",
      "usefulCount     0.000000\n",
      "date            0.000000\n",
      "rating          0.000000\n",
      "review          0.000000\n",
      "drugName        0.000000\n",
      "uniqueID        0.000000\n"
     ]
    }
   ],
   "source": [
    "#Check for NULL values\n",
    "\n",
    "nan=pd.DataFrame(df.isnull().sum().sort_values(ascending=False), columns = ['NULL values'])\n",
    "print(nan)\n",
    "\n",
    "#Check percentage for NULL values\n",
    "\n",
    "percentage = 100 * nan/len(df['condition'])\n",
    "print(percentage)"
   ]
  },
  {
   "cell_type": "code",
   "execution_count": 12,
   "metadata": {},
   "outputs": [
    {
     "name": "stdout",
     "output_type": "stream",
     "text": [
      "(213869, 7)\n"
     ]
    }
   ],
   "source": [
    "#Null values is lower than 1% so we delete them\n",
    "\n",
    "df.dropna(inplace=True)\n",
    "print(df.shape)"
   ]
  },
  {
   "cell_type": "code",
   "execution_count": 13,
   "metadata": {},
   "outputs": [
    {
     "data": {
      "text/html": [
       "<div>\n",
       "<style scoped>\n",
       "    .dataframe tbody tr th:only-of-type {\n",
       "        vertical-align: middle;\n",
       "    }\n",
       "\n",
       "    .dataframe tbody tr th {\n",
       "        vertical-align: top;\n",
       "    }\n",
       "\n",
       "    .dataframe thead th {\n",
       "        text-align: right;\n",
       "    }\n",
       "</style>\n",
       "<table border=\"1\" class=\"dataframe\">\n",
       "  <thead>\n",
       "    <tr style=\"text-align: right;\">\n",
       "      <th></th>\n",
       "      <th>uniqueID</th>\n",
       "      <th>drugName</th>\n",
       "      <th>condition</th>\n",
       "      <th>review</th>\n",
       "      <th>rating</th>\n",
       "      <th>date</th>\n",
       "      <th>usefulCount</th>\n",
       "    </tr>\n",
       "  </thead>\n",
       "  <tbody>\n",
       "  </tbody>\n",
       "</table>\n",
       "</div>"
      ],
      "text/plain": [
       "Empty DataFrame\n",
       "Columns: [uniqueID, drugName, condition, review, rating, date, usefulCount]\n",
       "Index: []"
      ]
     },
     "execution_count": 13,
     "metadata": {},
     "output_type": "execute_result"
    }
   ],
   "source": [
    "#Check for duplicate values\n",
    "\n",
    "duplicateRowsDF = df[df.duplicated()]\n",
    "duplicateRowsDF"
   ]
  },
  {
   "cell_type": "code",
   "execution_count": 14,
   "metadata": {},
   "outputs": [
    {
     "name": "stdout",
     "output_type": "stream",
     "text": [
      "10    67682\n",
      "9     36499\n",
      "1     28769\n",
      "8     24909\n",
      "7     12470\n",
      "5     10650\n",
      "2      9203\n",
      "3      8662\n",
      "6      8403\n",
      "4      6622\n",
      "Name: rating, dtype: int64\n",
      "2      8438\n",
      "3      8422\n",
      "0      8266\n",
      "4      8214\n",
      "1      8125\n",
      "       ... \n",
      "372       1\n",
      "408       1\n",
      "337       1\n",
      "476       1\n",
      "288       1\n",
      "Name: usefulCount, Length: 397, dtype: int64\n",
      "Birth Control                                   38436\n",
      "Depression                                      12164\n",
      "Pain                                             8245\n",
      "Anxiety                                          7812\n",
      "Acne                                             7435\n",
      "                                                ...  \n",
      "Diagnostic Bronchograms                             1\n",
      "Thyroid Suppression Test                            1\n",
      "Sepsis                                              1\n",
      "100</span> users found this comment helpful.        1\n",
      "40</span> users found this comment helpful.         1\n",
      "Name: condition, Length: 916, dtype: int64\n",
      "Levonorgestrel                       4896\n",
      "Etonogestrel                         4402\n",
      "Ethinyl estradiol / norethindrone    3619\n",
      "Nexplanon                            2892\n",
      "Ethinyl estradiol / norgestimate     2682\n",
      "                                     ... \n",
      "Nateglinide                             1\n",
      "Garlic                                  1\n",
      "ProFe                                   1\n",
      "Drixoral Decongestant Non-Drowsy        1\n",
      "Atazanavir                              1\n",
      "Name: drugName, Length: 3667, dtype: int64\n",
      "\"Good\"                                                                                                                                                                                                                                                                                                                                                                                                                                                                                                                                                                                                                                                                                                                             39\n",
      "\"Good.\"                                                                                                                                                                                                                                                                                                                                                                                                                                                                                                                                                                                                                                                                                                                            26\n",
      "\"Great\"                                                                                                                                                                                                                                                                                                                                                                                                                                                                                                                                                                                                                                                                                                                            25\n",
      "\"Very good\"                                                                                                                                                                                                                                                                                                                                                                                                                                                                                                                                                                                                                                                                                                                        21\n",
      "\"Great.\"                                                                                                                                                                                                                                                                                                                                                                                                                                                                                                                                                                                                                                                                                                                           19\n",
      "                                                                                                                                                                                                                                                                                                                                                                                                                                                                                                                                                                                                                                                                                                                                   ..\n",
      "\"I&#039;ve was dubious about lithium and didn&#039;t want it. Time came that it was a choice left. At first I had nausea, and thirst. My doctor out me on a XR brand and it was better.  I can honestly say today, I don&#039;t know if it&#039;s working or not.  It is such a medicine that just does what it needs to do.  But a warning is- watch your salts either on your plate or in the sun.  I was told by the chemist and then I became aware when one day, I was out in the heat and walking around. I felt faint after a while. Next day I felt washed out.  And this has happened a few times.   Lithium is based on salts and this can play a little chaos.  Especially in the heat.\"                                 1\n",
      "\"Have been taking 10mg for years on a semi regular basis. Only when I need a good sleep or if I slept poorly for a couple days. Don&#039;t notice the anti histamine effect, but do sleep well and rested.\\r\\r\\nIf nervous system is too aroused it doesn&#039;t always work. But for me, its good. Not much side effect apart from slight drowsiness but very short term on waking.\"                                                                                                                                                                                                                                                                                                                                               1\n",
      "\"working great\"                                                                                                                                                                                                                                                                                                                                                                                                                                                                                                                                                                                                                                                                                                                     1\n",
      "\"This drug is really as toxic as they come! Not sure I would like to take them again. I had diarrhoea for the 1st 2 days and an awful taste in my mouth like shampoo with metal filings in it. \\r\\nI started to take acidophilus lactobacilus on day 2 and that sorted my stomach problem. The taste however was very difficult to mask. I found that chocolate of all things helped to keep it at bay for a good few hours. But feeling ill I didn&#039;t really feel like eating chocolate. On the whole is it now day 4 and  I am starting to feel an improvement in my health. So something positive has come out of taking them. I had tried a course of regular Amoxcilin previously which didn&#039;t touch my illness.\"     1\n",
      "\"I have been diagnosed with lupus (SLE) and had fluid around my lungs and heart caused by an inflamation iin the body.  After corrective surgery was put on 10 mg prednisone  3times a day.  Felt an immediate improvement in my overall health with no side effects.  Now down to one 10 mg pill per day.\"                                                                                                                                                                                                                                                                                                                                                                                                                         1\n",
      "Name: review, Length: 128449, dtype: int64\n"
     ]
    }
   ],
   "source": [
    "#Check for value counts\n",
    "\n",
    "print(df.rating.value_counts())\n",
    "print(df.usefulCount.value_counts())\n",
    "print(df.condition.value_counts())\n",
    "print(df.drugName.value_counts())\n",
    "print(df.review.value_counts())"
   ]
  },
  {
   "cell_type": "code",
   "execution_count": 15,
   "metadata": {},
   "outputs": [
    {
     "name": "stdout",
     "output_type": "stream",
     "text": [
      "                                                           min  \\\n",
      "uniqueID                                                     0   \n",
      "drugName                             A + D Cracked Skin Relief   \n",
      "condition           0</span> users found this comment helpful.   \n",
      "review       \"\\r\\n\\r\\n please tell the ones who is sufferin...   \n",
      "rating                                                       1   \n",
      "date                                                  1-Apr-08   \n",
      "usefulCount                                                  0   \n",
      "\n",
      "                                                           max  \n",
      "uniqueID                                                232291  \n",
      "drugName                                              pHisoHex  \n",
      "condition                                          zen Shoulde  \n",
      "review       \"❤️❤️❤️ Cialis for US!!    I wish I had my hus...  \n",
      "rating                                                      10  \n",
      "date                                                  9-Sep-17  \n",
      "usefulCount                                               1291  \n",
      "            uniqueID         rating    usefulCount\n",
      "count  213869.000000  213869.000000  213869.000000\n",
      "mean   116076.924786       6.991149      28.094118\n",
      "std     67016.705794       3.275792      36.401377\n",
      "min         0.000000       1.000000       0.000000\n",
      "25%     58122.000000       5.000000       6.000000\n",
      "50%    115972.000000       8.000000      16.000000\n",
      "75%    174018.000000      10.000000      36.000000\n",
      "max    232291.000000      10.000000    1291.000000\n"
     ]
    }
   ],
   "source": [
    "print(df.agg([min, max]).T)\n",
    "print(df.describe())"
   ]
  }
 ],
 "metadata": {
  "kernelspec": {
   "display_name": "Python 3",
   "language": "python",
   "name": "python3"
  },
  "language_info": {
   "codemirror_mode": {
    "name": "ipython",
    "version": 3
   },
   "file_extension": ".py",
   "mimetype": "text/x-python",
   "name": "python",
   "nbconvert_exporter": "python",
   "pygments_lexer": "ipython3",
   "version": "3.7.4"
  }
 },
 "nbformat": 4,
 "nbformat_minor": 4
}
